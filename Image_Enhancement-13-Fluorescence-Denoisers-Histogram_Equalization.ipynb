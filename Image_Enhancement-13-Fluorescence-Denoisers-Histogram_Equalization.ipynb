{
 "cells": [
  {
   "cell_type": "code",
   "execution_count": 1,
   "id": "73ec246e",
   "metadata": {},
   "outputs": [],
   "source": [
    "# import the modules\n",
    "import os\n",
    "from os import listdir\n",
    "\n",
    "import cv2\n",
    "import numpy as np\n",
    "# import os\n",
    "from matplotlib import pyplot as plt\n",
    " \n",
    "# get the path/directory\n",
    "# folder_dir = \"C:/Users/RIJUSHREE/Desktop/Gfg images\"\n",
    "folder_dir = \"D:/Y4/Co-operative_Education-CPS/Assignment/Image_Enhancement/\" \\\n",
    "                \"2021Winter-20221208T085236Z-001/2021Winter-12-Fluorescence-Denoisers\"\n",
    "files = os.listdir(folder_dir)\n",
    "for file in files:\n",
    "    img_path = os.path.join(folder_dir, file)\n",
    "    img = cv2.imread(img_path)\n",
    "    # check if the image ends with png\n",
    "#     if (images.endswith(\".jpg\")):\n",
    "    img_rgb = cv2.cvtColor(img, cv2.COLOR_BGR2RGB)\n",
    "    img_yuv = cv2.cvtColor(img_rgb, cv2.COLOR_RGB2YUV)\n",
    "\n",
    "    # equalize the histogram of the Y channel\n",
    "    img_yuv[:,:,0] = cv2.equalizeHist(img_yuv[:,:,0])\n",
    "\n",
    "    # convert the YUV image back to RGB format\n",
    "    img_output = cv2.cvtColor(img_yuv, cv2.COLOR_YUV2RGB)\n",
    "        \n",
    "    plt.imsave(f\"../Image_Enhancement/2021Winter-20221208T085236Z-001/2021Winter-13-Fluorescence-Denoisers-Histogram_Equalization/{file}\", img_output)\n",
    "#         print(img)"
   ]
  },
  {
   "cell_type": "code",
   "execution_count": null,
   "id": "664f44a0",
   "metadata": {},
   "outputs": [],
   "source": []
  }
 ],
 "metadata": {
  "kernelspec": {
   "display_name": "Python 3 (ipykernel)",
   "language": "python",
   "name": "python3"
  },
  "language_info": {
   "codemirror_mode": {
    "name": "ipython",
    "version": 3
   },
   "file_extension": ".py",
   "mimetype": "text/x-python",
   "name": "python",
   "nbconvert_exporter": "python",
   "pygments_lexer": "ipython3",
   "version": "3.9.13"
  }
 },
 "nbformat": 4,
 "nbformat_minor": 5
}
